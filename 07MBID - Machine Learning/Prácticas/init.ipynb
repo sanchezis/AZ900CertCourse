{
  "nbformat": 4,
  "nbformat_minor": 0,
  "metadata": {
    "colab": {
      "provenance": [],
      "gpuType": "T4",
      "authorship_tag": "ABX9TyN4xmKcg28KVLvl6yuUMHAA",
      "include_colab_link": true
    },
    "kernelspec": {
      "name": "python3",
      "display_name": "Python 3"
    },
    "language_info": {
      "name": "python"
    },
    "accelerator": "GPU"
  },
  "cells": [
    {
      "cell_type": "markdown",
      "metadata": {
        "id": "view-in-github",
        "colab_type": "text"
      },
      "source": [
        "<a href=\"https://colab.research.google.com/github/sanchezis/AZ900CertCourse/blob/main/07MBID%20-%20Machine%20Learning/Pr%C3%A1cticas/init.ipynb\" target=\"_parent\"><img src=\"https://colab.research.google.com/assets/colab-badge.svg\" alt=\"Open In Colab\"/></a>"
      ]
    },
    {
      "cell_type": "markdown",
      "source": [
        "# Init ML\n",
        "cuaderno colab para la realización de pruebas y ejercicios provenientes de la materia de Machine Learning."
      ],
      "metadata": {
        "id": "km1dqwp59sfF"
      }
    },
    {
      "cell_type": "code",
      "execution_count": null,
      "metadata": {
        "id": "bfDG3kTY7Ap7"
      },
      "outputs": [],
      "source": []
    }
  ]
}